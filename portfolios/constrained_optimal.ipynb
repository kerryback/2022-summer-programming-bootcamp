{
  "cells": [
    {
      "cell_type": "markdown",
      "metadata": {
        "id": "view-in-github",
        "colab_type": "text"
      },
      "source": [
        "<a href=\"https://colab.research.google.com/github/kerryback/2022-summer-programming-bootcamp/blob/main/portfolios/constrained_optimal.ipynb\" target=\"_parent\"><img src=\"https://colab.research.google.com/assets/colab-badge.svg\" alt=\"Open In Colab\"/></a>"
      ]
    },
    {
      "cell_type": "code",
      "source": [
        "!pip install cvxopt"
      ],
      "metadata": {
        "id": "ntfFHrwpxk4a"
      },
      "execution_count": null,
      "outputs": []
    },
    {
      "cell_type": "code",
      "execution_count": null,
      "metadata": {
        "id": "_G-0JTECzkJL",
        "outputId": "69dadb7d-c64a-48ce-b41c-9988fac15ced"
      },
      "outputs": [
        {
          "data": {
            "text/plain": [
              "[0.37360672382078003, 0.3291654704849601, 0.2972224939294642]"
            ]
          },
          "execution_count": 1,
          "metadata": {},
          "output_type": "execute_result"
        }
      ],
      "source": [
        "from cvxopt import matrix\n",
        "from cvxopt.solvers import qp as Solver\n",
        "from cvxopt.solvers import options as SolverOptions\n",
        "SolverOptions['show_progress'] = False\n",
        "    \n",
        "def optimal_noshorts_noleverage(rprem,cov,raver) :\n",
        "    num = len(rprem)\n",
        "    Q = matrix(raver*cov)                                    # quadratic form that penalizes variance\n",
        "    p = matrix(-rprem,(num,1))                               # want to maximize wtd avg of risk premia\n",
        "    G = matrix(np.vstack([-np.identity(num),np.ones(num)]))  # imposes nonnegativity and weights sum to <=1\n",
        "    h = matrix(np.vstack([np.zeros(num).reshape(num,1),1]))  # right-hand side of inequality constraints\n",
        "    sol = Solver(Q,p,G,h)\n",
        "    return sol['x'] if sol['status']=='optimal' else None\n",
        "\n",
        "# example data\n",
        "\n",
        "means = np.array([0.10,0.15,0.20])  # expected returns\n",
        "sds = np.array([0.15,0.25,0.30])    # standard deviations\n",
        "c12 = 0.2                           # correlations (1 with 2, 1 with 3, and 2 with 3)\n",
        "c13 = 0.5\n",
        "c23 = 0.3\n",
        "rf = 0.02                           # risk-free rate\n",
        "raver = 4                           # risk aversion\n",
        "\n",
        "# solution\n",
        "\n",
        "corr = np.array([[1,c12,c13],[c12,1,c23],[c13,c23,1]])\n",
        "cov = np.diag(sds) @ corr @ np.diag(sds)\n",
        "rprem = means - rf\n",
        "sol = optimal_noshorts_noleverage(rprem,cov,raver)\n",
        "list(sol)"
      ]
    },
    {
      "cell_type": "code",
      "execution_count": null,
      "metadata": {
        "id": "seloZM8uzkJQ"
      },
      "outputs": [],
      "source": [
        ""
      ]
    }
  ],
  "metadata": {
    "kernelspec": {
      "display_name": "Python 3 (ipykernel)",
      "language": "python",
      "name": "python3"
    },
    "language_info": {
      "codemirror_mode": {
        "name": "ipython",
        "version": 3
      },
      "file_extension": ".py",
      "mimetype": "text/x-python",
      "name": "python",
      "nbconvert_exporter": "python",
      "pygments_lexer": "ipython3",
      "version": "3.9.7"
    },
    "colab": {
      "name": "optimal_noshorts_noleverage.ipynb",
      "provenance": [],
      "include_colab_link": true
    }
  },
  "nbformat": 4,
  "nbformat_minor": 0
}